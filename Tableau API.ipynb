{
 "cells": [
  {
   "cell_type": "code",
   "execution_count": 23,
   "metadata": {},
   "outputs": [
    {
     "data": {
      "text/html": [
       "<style>.container { width:100% !important; }</style>"
      ],
      "text/plain": [
       "<IPython.core.display.HTML object>"
      ]
     },
     "metadata": {},
     "output_type": "display_data"
    }
   ],
   "source": [
    "import tableauserverclient as TSC\n",
    "import numpy as np\n",
    "import pandas as pd\n",
    "from prep import *\n",
    "\n",
    "#dispaly jupyter as full width of the screen\n",
    "from IPython.core.display import display, HTML\n",
    "display(HTML(\"<style>.container { width:100% !important; }</style>\"))"
   ]
  },
  {
   "cell_type": "code",
   "execution_count": 28,
   "metadata": {},
   "outputs": [
    {
     "name": "stdout",
     "output_type": "stream",
     "text": [
      "2.3\n"
     ]
    }
   ],
   "source": [
    "tableau_auth = TSC.TableauAuth(USERNAME, PASSWORD)\n",
    "server = TSC.Server(SERVER)\n",
    "\n",
    "with server.auth.sign_in(tableau_auth):\n",
    "    print(server.version)"
   ]
  },
  {
   "cell_type": "markdown",
   "metadata": {},
   "source": [
    "### Data Sources Item"
   ]
  },
  {
   "cell_type": "code",
   "execution_count": 10,
   "metadata": {},
   "outputs": [
    {
     "name": "stdout",
     "output_type": "stream",
     "text": [
      "\n",
      "There are 1042 datasources on site: \n"
     ]
    },
    {
     "data": {
      "text/html": [
       "<div>\n",
       "<style scoped>\n",
       "    .dataframe tbody tr th:only-of-type {\n",
       "        vertical-align: middle;\n",
       "    }\n",
       "\n",
       "    .dataframe tbody tr th {\n",
       "        vertical-align: top;\n",
       "    }\n",
       "\n",
       "    .dataframe thead th {\n",
       "        text-align: right;\n",
       "    }\n",
       "</style>\n",
       "<table border=\"1\" class=\"dataframe\">\n",
       "  <thead>\n",
       "    <tr style=\"text-align: right;\">\n",
       "      <th></th>\n",
       "      <th>0</th>\n",
       "    </tr>\n",
       "  </thead>\n",
       "  <tbody>\n",
       "    <tr>\n",
       "      <th>_certification_note</th>\n",
       "      <td>None</td>\n",
       "    </tr>\n",
       "    <tr>\n",
       "      <th>_certified</th>\n",
       "      <td>False</td>\n",
       "    </tr>\n",
       "    <tr>\n",
       "      <th>_connections</th>\n",
       "      <td>None</td>\n",
       "    </tr>\n",
       "    <tr>\n",
       "      <th>_content_url</th>\n",
       "      <td>MatrixContentViews-Live</td>\n",
       "    </tr>\n",
       "    <tr>\n",
       "      <th>_created_at</th>\n",
       "      <td>2015-02-09 19:51:02+00:00</td>\n",
       "    </tr>\n",
       "    <tr>\n",
       "      <th>_datasource_type</th>\n",
       "      <td>redshift</td>\n",
       "    </tr>\n",
       "    <tr>\n",
       "      <th>_id</th>\n",
       "      <td>b686e88e-01d9-48ff-963f-4573396ff5e3</td>\n",
       "    </tr>\n",
       "    <tr>\n",
       "      <th>_initial_tags</th>\n",
       "      <td>{}</td>\n",
       "    </tr>\n",
       "    <tr>\n",
       "      <th>_project_id</th>\n",
       "      <td>db7204dc-0252-11e4-9deb-a725883cdf90</td>\n",
       "    </tr>\n",
       "    <tr>\n",
       "      <th>_project_name</th>\n",
       "      <td>Sandbox</td>\n",
       "    </tr>\n",
       "    <tr>\n",
       "      <th>_updated_at</th>\n",
       "      <td>2018-10-10 16:40:05+00:00</td>\n",
       "    </tr>\n",
       "    <tr>\n",
       "      <th>name</th>\n",
       "      <td>(Matrix) Content Views - Live</td>\n",
       "    </tr>\n",
       "    <tr>\n",
       "      <th>owner_id</th>\n",
       "      <td>9deb418f-b79c-4d77-ae25-3b07b17a5a5a</td>\n",
       "    </tr>\n",
       "    <tr>\n",
       "      <th>tags</th>\n",
       "      <td>{}</td>\n",
       "    </tr>\n",
       "  </tbody>\n",
       "</table>\n",
       "</div>"
      ],
      "text/plain": [
       "                                                        0\n",
       "_certification_note                                  None\n",
       "_certified                                          False\n",
       "_connections                                         None\n",
       "_content_url                      MatrixContentViews-Live\n",
       "_created_at                     2015-02-09 19:51:02+00:00\n",
       "_datasource_type                                 redshift\n",
       "_id                  b686e88e-01d9-48ff-963f-4573396ff5e3\n",
       "_initial_tags                                          {}\n",
       "_project_id          db7204dc-0252-11e4-9deb-a725883cdf90\n",
       "_project_name                                     Sandbox\n",
       "_updated_at                     2018-10-10 16:40:05+00:00\n",
       "name                        (Matrix) Content Views - Live\n",
       "owner_id             9deb418f-b79c-4d77-ae25-3b07b17a5a5a\n",
       "tags                                                   {}"
      ]
     },
     "execution_count": 10,
     "metadata": {},
     "output_type": "execute_result"
    }
   ],
   "source": [
    "#what is in DataSourceItem\n",
    "with server.auth.sign_in(tableau_auth):\n",
    "    #get the top 100 datasources info\n",
    "    ds, pagination_item = server.datasources.get()\n",
    "    #to get all datasources info:\n",
    "    all_info = [ds for ds in TSC.Pager(server.datasources)]\n",
    "    \n",
    "    print(\"\\nThere are {} datasources on site: \".format(pagination_item.total_available)) \n",
    "    a = ds[0]\n",
    "         \n",
    "pd.DataFrame(pd.Series(vars(a)))"
   ]
  },
  {
   "cell_type": "code",
   "execution_count": 13,
   "metadata": {},
   "outputs": [
    {
     "data": {
      "text/html": [
       "<div>\n",
       "<style scoped>\n",
       "    .dataframe tbody tr th:only-of-type {\n",
       "        vertical-align: middle;\n",
       "    }\n",
       "\n",
       "    .dataframe tbody tr th {\n",
       "        vertical-align: top;\n",
       "    }\n",
       "\n",
       "    .dataframe thead th {\n",
       "        text-align: right;\n",
       "    }\n",
       "</style>\n",
       "<table border=\"1\" class=\"dataframe\">\n",
       "  <thead>\n",
       "    <tr style=\"text-align: right;\">\n",
       "      <th></th>\n",
       "      <th>name</th>\n",
       "      <th>project_name</th>\n",
       "      <th>datasource_type</th>\n",
       "      <th>content_url</th>\n",
       "      <th>_connection_type</th>\n",
       "      <th>embed_password</th>\n",
       "      <th>created_at</th>\n",
       "      <th>updated_at</th>\n",
       "    </tr>\n",
       "  </thead>\n",
       "  <tbody>\n",
       "    <tr>\n",
       "      <th>0</th>\n",
       "      <td>(Matrix) Content Views - Live</td>\n",
       "      <td>Sandbox</td>\n",
       "      <td>redshift</td>\n",
       "      <td>MatrixContentViews-Live</td>\n",
       "      <td>[redshift]</td>\n",
       "      <td>[None]</td>\n",
       "      <td>2015-02-09 19:51:02+00:00</td>\n",
       "      <td>2018-10-10 16:40:05+00:00</td>\n",
       "    </tr>\n",
       "    <tr>\n",
       "      <th>1</th>\n",
       "      <td>(Matrix) Content Valuation</td>\n",
       "      <td>Sandbox</td>\n",
       "      <td>redshift</td>\n",
       "      <td>MatrixContentValuation</td>\n",
       "      <td>[redshift]</td>\n",
       "      <td>[None]</td>\n",
       "      <td>2014-10-23 21:43:42+00:00</td>\n",
       "      <td>2018-10-10 16:39:11+00:00</td>\n",
       "    </tr>\n",
       "  </tbody>\n",
       "</table>\n",
       "</div>"
      ],
      "text/plain": [
       "                            name project_name datasource_type  \\\n",
       "0  (Matrix) Content Views - Live      Sandbox        redshift   \n",
       "1     (Matrix) Content Valuation      Sandbox        redshift   \n",
       "\n",
       "               content_url _connection_type embed_password  \\\n",
       "0  MatrixContentViews-Live       [redshift]         [None]   \n",
       "1   MatrixContentValuation       [redshift]         [None]   \n",
       "\n",
       "                  created_at                 updated_at  \n",
       "0  2015-02-09 19:51:02+00:00  2018-10-10 16:40:05+00:00  \n",
       "1  2014-10-23 21:43:42+00:00  2018-10-10 16:39:11+00:00  "
      ]
     },
     "execution_count": 13,
     "metadata": {},
     "output_type": "execute_result"
    }
   ],
   "source": [
    "#DataSourceItem\n",
    "with server.auth.sign_in(tableau_auth):  \n",
    "    df_ds = pd.DataFrame(columns = [\"name\",\"project_name\",\"datasource_type\"])\n",
    "    \n",
    "    for n in range(len(ds)):\n",
    "        i = ds[n]\n",
    "        server.datasources.populate_connections(i)\n",
    "        df_ds.loc[n,\"name\"] = i.name\n",
    "        df_ds.loc[n,\"content_url\"] = i._content_url\n",
    "        df_ds.loc[n,\"project_name\"] = i.project_name\n",
    "        df_ds.loc[n,\"datasource_type\"] =i.datasource_type\n",
    "        df_ds.loc[n,\"_connection_type\"] =[connection._connection_type for connection in i.connections]    \n",
    "        df_ds.loc[n,\"embed_password\"] = [connection.embed_password for connection in i.connections]    \n",
    "        df_ds.loc[n,\"created_at\"] = i._created_at\n",
    "        df_ds.loc[n,\"updated_at\"] = i._updated_at\n",
    "        \n",
    "    \n",
    "df_ds.head(2)"
   ]
  },
  {
   "cell_type": "code",
   "execution_count": 14,
   "metadata": {},
   "outputs": [
    {
     "name": "stdout",
     "output_type": "stream",
     "text": [
      "[] []\n"
     ]
    }
   ],
   "source": [
    "#what is certification_note and cerified? \n",
    "with server.auth.sign_in(tableau_auth):\n",
    "    tds_cn = [ds for ds in TSC.Pager(server.datasources) if ds.certification_note is not None]\n",
    "    tds_c = [ds for ds in TSC.Pager(server.datasources) if ds.certified is True]\n",
    "\n",
    "print (tds_cn, tds_c)"
   ]
  },
  {
   "cell_type": "code",
   "execution_count": 15,
   "metadata": {},
   "outputs": [
    {
     "data": {
      "text/plain": [
       "[{'_connection_type': 'sqlproxy',\n",
       "  '_datasource_id': None,\n",
       "  '_datasource_name': None,\n",
       "  '_id': 'aab8d6dd-c0d7-4f1c-bdcf-dbc79e45809e',\n",
       "  'connection_credentials': None,\n",
       "  'embed_password': None,\n",
       "  'password': None,\n",
       "  'server_address': 'i-0e5362952d191',\n",
       "  'server_port': '80',\n",
       "  'username': ''}]"
      ]
     },
     "execution_count": 15,
     "metadata": {},
     "output_type": "execute_result"
    }
   ],
   "source": [
    "#ConnectionItem for a DatasourceItem\n",
    "with server.auth.sign_in(tableau_auth):\n",
    "    a = server.datasources.get_by_id('52aa5d8e-b3ec-4cfb-b3f2-ce835aa26157')\n",
    "    \n",
    "    server.datasources.populate_connections(a)\n",
    "    c = [vars(connection) for connection in a.connections]\n",
    "c"
   ]
  },
  {
   "cell_type": "code",
   "execution_count": null,
   "metadata": {},
   "outputs": [],
   "source": []
  },
  {
   "cell_type": "code",
   "execution_count": null,
   "metadata": {},
   "outputs": [],
   "source": []
  },
  {
   "cell_type": "markdown",
   "metadata": {},
   "source": [
    "### WorkbookItem"
   ]
  },
  {
   "cell_type": "code",
   "execution_count": 16,
   "metadata": {
    "scrolled": false
   },
   "outputs": [
    {
     "name": "stdout",
     "output_type": "stream",
     "text": [
      "\n",
      "There are 1414 workbook on site: \n"
     ]
    },
    {
     "data": {
      "text/html": [
       "<div>\n",
       "<style scoped>\n",
       "    .dataframe tbody tr th:only-of-type {\n",
       "        vertical-align: middle;\n",
       "    }\n",
       "\n",
       "    .dataframe tbody tr th {\n",
       "        vertical-align: top;\n",
       "    }\n",
       "\n",
       "    .dataframe thead th {\n",
       "        text-align: right;\n",
       "    }\n",
       "</style>\n",
       "<table border=\"1\" class=\"dataframe\">\n",
       "  <thead>\n",
       "    <tr style=\"text-align: right;\">\n",
       "      <th></th>\n",
       "      <th>name</th>\n",
       "      <th>project_name</th>\n",
       "      <th>content_url</th>\n",
       "      <th>created_at</th>\n",
       "      <th>updated_at</th>\n",
       "      <th>#_views</th>\n",
       "      <th>_show_tabs</th>\n",
       "      <th>owner_id</th>\n",
       "      <th>size</th>\n",
       "      <th>_connection_type</th>\n",
       "      <th>embed_password</th>\n",
       "      <th>datasource_name</th>\n",
       "    </tr>\n",
       "  </thead>\n",
       "  <tbody>\n",
       "    <tr>\n",
       "      <th>0</th>\n",
       "      <td>Alert_RoyalityEvent</td>\n",
       "      <td>Data Governance &amp; Quality</td>\n",
       "      <td>Alert_RoyalityEvent</td>\n",
       "      <td>2018-08-22 22:23:26+00:00</td>\n",
       "      <td>2019-02-01 21:06:59+00:00</td>\n",
       "      <td>4.0</td>\n",
       "      <td>True</td>\n",
       "      <td>7f032f37-05c7-4093-8ec8-ac457b00a488</td>\n",
       "      <td>1.0</td>\n",
       "      <td>[sqlproxy]</td>\n",
       "      <td>[None]</td>\n",
       "      <td>[Alert - Royalty Events]</td>\n",
       "    </tr>\n",
       "    <tr>\n",
       "      <th>1</th>\n",
       "      <td>Alert - Subscription Cancel and Cancel rate</td>\n",
       "      <td>Data Governance &amp; Quality</td>\n",
       "      <td>Alert-SubscriptionCancelandCancelrate</td>\n",
       "      <td>2018-09-05 01:06:37+00:00</td>\n",
       "      <td>2019-01-31 19:38:49+00:00</td>\n",
       "      <td>3.0</td>\n",
       "      <td>True</td>\n",
       "      <td>7f032f37-05c7-4093-8ec8-ac457b00a488</td>\n",
       "      <td>1.0</td>\n",
       "      <td>[sqlproxy, sqlproxy]</td>\n",
       "      <td>[None, None]</td>\n",
       "      <td>[(Matrix) Subscriber Activity - 2 yr, Alert-Su...</td>\n",
       "    </tr>\n",
       "  </tbody>\n",
       "</table>\n",
       "</div>"
      ],
      "text/plain": [
       "                                          name               project_name  \\\n",
       "0                          Alert_RoyalityEvent  Data Governance & Quality   \n",
       "1  Alert - Subscription Cancel and Cancel rate  Data Governance & Quality   \n",
       "\n",
       "                             content_url                 created_at  \\\n",
       "0                    Alert_RoyalityEvent  2018-08-22 22:23:26+00:00   \n",
       "1  Alert-SubscriptionCancelandCancelrate  2018-09-05 01:06:37+00:00   \n",
       "\n",
       "                  updated_at  #_views  _show_tabs  \\\n",
       "0  2019-02-01 21:06:59+00:00      4.0        True   \n",
       "1  2019-01-31 19:38:49+00:00      3.0        True   \n",
       "\n",
       "                               owner_id  size      _connection_type  \\\n",
       "0  7f032f37-05c7-4093-8ec8-ac457b00a488   1.0            [sqlproxy]   \n",
       "1  7f032f37-05c7-4093-8ec8-ac457b00a488   1.0  [sqlproxy, sqlproxy]   \n",
       "\n",
       "  embed_password                                    datasource_name  \n",
       "0         [None]                           [Alert - Royalty Events]  \n",
       "1   [None, None]  [(Matrix) Subscriber Activity - 2 yr, Alert-Su...  "
      ]
     },
     "execution_count": 16,
     "metadata": {},
     "output_type": "execute_result"
    }
   ],
   "source": [
    "with server.auth.sign_in(tableau_auth):\n",
    "    all_wb, pagination_item = server.workbooks.get()\n",
    "    print(\"\\nThere are {} workbook on site: \".format(pagination_item.total_available))        \n",
    "    \n",
    "    all_info = [wb for wb in TSC.Pager(server.workbooks) if wb.name.startswith('Alert')]\n",
    "    \n",
    "    \n",
    "    df_wb = pd.DataFrame(columns = [\"name\",\"project_name\"])\n",
    "    \n",
    "    for n in range(len(all_info)):\n",
    "        i = all_info[n]\n",
    "        #populate the connection and views\n",
    "        server.workbooks.populate_connections(i)\n",
    "        server.workbooks.populate_views(i)\n",
    "        \n",
    "        views =[vars(view) for view in i.views]\n",
    "        \n",
    "        df_wb.loc[n,\"name\"] = i.name\n",
    "        df_wb.loc[n,\"content_url\"] = i._content_url\n",
    "        df_wb.loc[n,\"project_name\"] = i.project_name\n",
    "        df_wb.loc[n,\"created_at\"] = i._created_at\n",
    "        df_wb.loc[n,\"updated_at\"] = i._updated_at\n",
    "        df_wb.loc[n,\"#_views\"] = len(views)\n",
    "        df_wb.loc[n,\"_show_tabs\"] = i._show_tabs\n",
    "        df_wb.loc[n,\"owner_id\"] = i.owner_id\n",
    "        df_wb.loc[n,\"size\"] = i.size\n",
    "        \n",
    "        try:\n",
    "            df_wb.loc[n,\"_connection_type\"] =[connection._connection_type for connection in i.connections]    \n",
    "            df_wb.loc[n,\"embed_password\"] = [connection.embed_password for connection in i.connections]\n",
    "            df_wb.loc[n,\"datasource_name\"] = [connection.datasource_name for connection in i.connections]\n",
    "        except: \n",
    "            pass\n",
    "        \n",
    "    \n",
    "df_wb.head(2)"
   ]
  },
  {
   "cell_type": "code",
   "execution_count": 30,
   "metadata": {},
   "outputs": [
    {
     "data": {
      "text/html": [
       "<div>\n",
       "<style scoped>\n",
       "    .dataframe tbody tr th:only-of-type {\n",
       "        vertical-align: middle;\n",
       "    }\n",
       "\n",
       "    .dataframe tbody tr th {\n",
       "        vertical-align: top;\n",
       "    }\n",
       "\n",
       "    .dataframe thead th {\n",
       "        text-align: right;\n",
       "    }\n",
       "</style>\n",
       "<table border=\"1\" class=\"dataframe\">\n",
       "  <thead>\n",
       "    <tr style=\"text-align: right;\">\n",
       "      <th></th>\n",
       "      <th>0</th>\n",
       "    </tr>\n",
       "  </thead>\n",
       "  <tbody>\n",
       "    <tr>\n",
       "      <th>_content_url</th>\n",
       "      <td>Alert_RoyalityEvent</td>\n",
       "    </tr>\n",
       "    <tr>\n",
       "      <th>_created_at</th>\n",
       "      <td>2018-08-22 22:23:26+00:00</td>\n",
       "    </tr>\n",
       "    <tr>\n",
       "      <th>_id</th>\n",
       "      <td>9a75a75a-bcc3-4371-ba9d-386da039bbb4</td>\n",
       "    </tr>\n",
       "    <tr>\n",
       "      <th>_initial_tags</th>\n",
       "      <td>{}</td>\n",
       "    </tr>\n",
       "    <tr>\n",
       "      <th>_preview_image</th>\n",
       "      <td>None</td>\n",
       "    </tr>\n",
       "    <tr>\n",
       "      <th>_project_id</th>\n",
       "      <td>ffec875f-cdfe-42b9-8f91-2a994d2bc07f</td>\n",
       "    </tr>\n",
       "    <tr>\n",
       "      <th>_project_name</th>\n",
       "      <td>Data Governance &amp; Quality</td>\n",
       "    </tr>\n",
       "    <tr>\n",
       "      <th>_show_tabs</th>\n",
       "      <td>True</td>\n",
       "    </tr>\n",
       "    <tr>\n",
       "      <th>_size</th>\n",
       "      <td>1</td>\n",
       "    </tr>\n",
       "    <tr>\n",
       "      <th>_updated_at</th>\n",
       "      <td>2019-02-01 21:06:59+00:00</td>\n",
       "    </tr>\n",
       "    <tr>\n",
       "      <th>name</th>\n",
       "      <td>Alert_RoyalityEvent</td>\n",
       "    </tr>\n",
       "    <tr>\n",
       "      <th>owner_id</th>\n",
       "      <td>7f032f37-05c7-4093-8ec8-ac457b00a488</td>\n",
       "    </tr>\n",
       "    <tr>\n",
       "      <th>tags</th>\n",
       "      <td>{}</td>\n",
       "    </tr>\n",
       "    <tr>\n",
       "      <th>connection_id</th>\n",
       "      <td>aab8d6dd-c0d7-4f1c-bdcf-dbc79e45809e</td>\n",
       "    </tr>\n",
       "    <tr>\n",
       "      <th>connection_type</th>\n",
       "      <td>sqlproxy</td>\n",
       "    </tr>\n",
       "    <tr>\n",
       "      <th>datasource_name</th>\n",
       "      <td>Alert - Royalty Events</td>\n",
       "    </tr>\n",
       "    <tr>\n",
       "      <th>#_views</th>\n",
       "      <td>4</td>\n",
       "    </tr>\n",
       "  </tbody>\n",
       "</table>\n",
       "</div>"
      ],
      "text/plain": [
       "                                                    0\n",
       "_content_url                      Alert_RoyalityEvent\n",
       "_created_at                 2018-08-22 22:23:26+00:00\n",
       "_id              9a75a75a-bcc3-4371-ba9d-386da039bbb4\n",
       "_initial_tags                                      {}\n",
       "_preview_image                                   None\n",
       "_project_id      ffec875f-cdfe-42b9-8f91-2a994d2bc07f\n",
       "_project_name               Data Governance & Quality\n",
       "_show_tabs                                       True\n",
       "_size                                               1\n",
       "_updated_at                 2019-02-01 21:06:59+00:00\n",
       "name                              Alert_RoyalityEvent\n",
       "owner_id         7f032f37-05c7-4093-8ec8-ac457b00a488\n",
       "tags                                               {}\n",
       "connection_id    aab8d6dd-c0d7-4f1c-bdcf-dbc79e45809e\n",
       "connection_type                              sqlproxy\n",
       "datasource_name                Alert - Royalty Events\n",
       "#_views                                             4"
      ]
     },
     "execution_count": 30,
     "metadata": {},
     "output_type": "execute_result"
    }
   ],
   "source": [
    "#for individual workbook\n",
    "with server.auth.sign_in(tableau_auth):\n",
    "    all_info = [wb for wb in TSC.Pager(server.workbooks) if wb.name.startswith('Alert')]\n",
    "    wb = all_info[0]\n",
    "    #populate the connection\n",
    "    server.workbooks.populate_connections(wb)\n",
    "    server.workbooks.populate_views(wb)\n",
    "    c = [[connection.id, connection.connection_type, connection.datasource_name] for connection in wb.connections]\n",
    "    c_info = [vars(connection) for connection in wb.connections]\n",
    "    views =[vars(view) for view in wb.views]\n",
    "\n",
    "ds_name = [pd.Series([c[0][0]], name = 'connection_id'),\n",
    "           pd.Series([c[0][1]], name = 'connection_type'),\n",
    "           pd.Series([c[0][2]], name = 'datasource_name'),\n",
    "           pd.Series(len(views), name = '#_views')]\n",
    "pd.DataFrame(pd.Series(vars(wb))).append(ds_name).drop(index=['_connections','_views'])\n"
   ]
  },
  {
   "cell_type": "code",
   "execution_count": 18,
   "metadata": {},
   "outputs": [
    {
     "data": {
      "text/plain": [
       "[{'_connection_type': 'sqlproxy',\n",
       "  '_datasource_id': '52aa5d8e-b3ec-4cfb-b3f2-ce835aa26157',\n",
       "  '_datasource_name': 'Alert - Royalty Events',\n",
       "  '_id': 'aab8d6dd-c0d7-4f1c-bdcf-dbc79e45809e',\n",
       "  'connection_credentials': None,\n",
       "  'embed_password': None,\n",
       "  'password': None,\n",
       "  'server_address': 'i-0e5362952d191',\n",
       "  'server_port': '80',\n",
       "  'username': ''}]"
      ]
     },
     "execution_count": 18,
     "metadata": {},
     "output_type": "execute_result"
    }
   ],
   "source": [
    "c_info"
   ]
  },
  {
   "cell_type": "code",
   "execution_count": 20,
   "metadata": {},
   "outputs": [
    {
     "data": {
      "text/html": [
       "<div>\n",
       "<style scoped>\n",
       "    .dataframe tbody tr th:only-of-type {\n",
       "        vertical-align: middle;\n",
       "    }\n",
       "\n",
       "    .dataframe tbody tr th {\n",
       "        vertical-align: top;\n",
       "    }\n",
       "\n",
       "    .dataframe thead th {\n",
       "        text-align: right;\n",
       "    }\n",
       "</style>\n",
       "<table border=\"1\" class=\"dataframe\">\n",
       "  <thead>\n",
       "    <tr style=\"text-align: right;\">\n",
       "      <th></th>\n",
       "      <th>_content_url</th>\n",
       "      <th>_csv</th>\n",
       "      <th>_id</th>\n",
       "      <th>_image</th>\n",
       "      <th>_initial_tags</th>\n",
       "      <th>_name</th>\n",
       "      <th>_owner_id</th>\n",
       "      <th>_pdf</th>\n",
       "      <th>_preview_image</th>\n",
       "      <th>_project_id</th>\n",
       "      <th>_total_views</th>\n",
       "      <th>_workbook_id</th>\n",
       "      <th>tags</th>\n",
       "    </tr>\n",
       "  </thead>\n",
       "  <tbody>\n",
       "    <tr>\n",
       "      <th>0</th>\n",
       "      <td>Alert_RoyalityEvent/sheets/RecordText</td>\n",
       "      <td>None</td>\n",
       "      <td>c31004cc-7d18-4e01-a027-3536e89cf1da</td>\n",
       "      <td>None</td>\n",
       "      <td>{}</td>\n",
       "      <td>Royalty-ContentViewRecordText</td>\n",
       "      <td>None</td>\n",
       "      <td>None</td>\n",
       "      <td>None</td>\n",
       "      <td>None</td>\n",
       "      <td>None</td>\n",
       "      <td>9a75a75a-bcc3-4371-ba9d-386da039bbb4</td>\n",
       "      <td>{}</td>\n",
       "    </tr>\n",
       "    <tr>\n",
       "      <th>1</th>\n",
       "      <td>Alert_RoyalityEvent/sheets/RecordText-YoY</td>\n",
       "      <td>None</td>\n",
       "      <td>ce1bf347-7928-4c40-895d-2c13bfc5fb71</td>\n",
       "      <td>None</td>\n",
       "      <td>{}</td>\n",
       "      <td>RecordText-YoY</td>\n",
       "      <td>None</td>\n",
       "      <td>None</td>\n",
       "      <td>None</td>\n",
       "      <td>None</td>\n",
       "      <td>None</td>\n",
       "      <td>9a75a75a-bcc3-4371-ba9d-386da039bbb4</td>\n",
       "      <td>{}</td>\n",
       "    </tr>\n",
       "  </tbody>\n",
       "</table>\n",
       "</div>"
      ],
      "text/plain": [
       "                                _content_url  _csv  \\\n",
       "0      Alert_RoyalityEvent/sheets/RecordText  None   \n",
       "1  Alert_RoyalityEvent/sheets/RecordText-YoY  None   \n",
       "\n",
       "                                    _id _image _initial_tags  \\\n",
       "0  c31004cc-7d18-4e01-a027-3536e89cf1da   None            {}   \n",
       "1  ce1bf347-7928-4c40-895d-2c13bfc5fb71   None            {}   \n",
       "\n",
       "                           _name _owner_id  _pdf _preview_image _project_id  \\\n",
       "0  Royalty-ContentViewRecordText      None  None           None        None   \n",
       "1                 RecordText-YoY      None  None           None        None   \n",
       "\n",
       "  _total_views                          _workbook_id tags  \n",
       "0         None  9a75a75a-bcc3-4371-ba9d-386da039bbb4   {}  \n",
       "1         None  9a75a75a-bcc3-4371-ba9d-386da039bbb4   {}  "
      ]
     },
     "execution_count": 20,
     "metadata": {},
     "output_type": "execute_result"
    }
   ],
   "source": [
    "pd.DataFrame(views).head(2)"
   ]
  },
  {
   "cell_type": "code",
   "execution_count": null,
   "metadata": {},
   "outputs": [],
   "source": []
  },
  {
   "cell_type": "code",
   "execution_count": null,
   "metadata": {},
   "outputs": [],
   "source": []
  },
  {
   "cell_type": "markdown",
   "metadata": {},
   "source": [
    "### Permision/Version Issues"
   ]
  },
  {
   "cell_type": "code",
   "execution_count": null,
   "metadata": {},
   "outputs": [],
   "source": [
    "#groups\n",
    "with server.auth.sign_in(tableau_auth):\n",
    "    all_groups, pagination_item = server.groups.get()\n",
    "    g = all_groups[1]\n",
    "    \n",
    "pd.DataFrame(pd.Series(vars(g)))"
   ]
  },
  {
   "cell_type": "code",
   "execution_count": null,
   "metadata": {},
   "outputs": [],
   "source": [
    "#users\n",
    "with server.auth.sign_in(tableau_auth):\n",
    "    all_users, pagination_item = server.users.get()\n",
    "    u = all_users[1]\n",
    "    \n",
    "pd.DataFrame(pd.Series(vars(u)))"
   ]
  },
  {
   "cell_type": "code",
   "execution_count": null,
   "metadata": {},
   "outputs": [],
   "source": [
    "#sites\n",
    "with server.auth.sign_in(tableau_auth):\n",
    "    for s in TSC.Pager(server.sites):\n",
    "        print(s.content_url)"
   ]
  },
  {
   "cell_type": "code",
   "execution_count": null,
   "metadata": {},
   "outputs": [],
   "source": [
    "#tags\n",
    "with server.auth.sign_in(tableau_auth):\n",
    "    sample_view = wb.views[0]\n",
    "    original_tag_set = set(sample_view.tags)\n",
    "    sample_view.tags.add(\"view_tag\")\n",
    "    server.views.update(sample_view)\n",
    "    print(\"\\nView's old tag set: {}\".format(original_tag_set))\n",
    "    print(\"View's new tag set: {}\".format(sample_view.tags))"
   ]
  },
  {
   "cell_type": "code",
   "execution_count": null,
   "metadata": {},
   "outputs": [],
   "source": [
    "#Previous Image was introduced in Version 2.5\n",
    "with server.auth.sign_in(tableau_auth):\n",
    "        # Step 2: Query for the view that we want an image of\n",
    "        all_views, pagination_item = server.views.get()\n",
    "        view_item = all_views[0]\n",
    "\n",
    "        # Step 3: Query the image endpoint and save the image to the specified location\n",
    "        image_req_option = TSC.ImageRequestOptions(imageresolution=TSC.ImageRequestOptions.Resolution.High)\n",
    "        server.views.populate_image(view_item, image_req_option)\n",
    "\n",
    "        with open('./a.jpg', \"wb\") as image_file:\n",
    "            image_file.write(view_item.image)\n",
    "\n",
    "        print(\"View image saved to ./a.jpg'\")"
   ]
  },
  {
   "cell_type": "code",
   "execution_count": 39,
   "metadata": {},
   "outputs": [
    {
     "name": "stdout",
     "output_type": "stream",
     "text": [
      "\n",
      "There are 37 schedules on site: \n"
     ]
    },
    {
     "data": {
      "text/plain": [
       "<Schedule#ee4745b0-bcea-4de2-87df-5623176858ca \"Weekday early mornings (4am)\" None>"
      ]
     },
     "execution_count": 39,
     "metadata": {},
     "output_type": "execute_result"
    }
   ],
   "source": [
    "with server.auth.sign_in(tableau_auth):\n",
    "    all_schedules, pagination_item = server.schedules.get()\n",
    "    print(\"\\nThere are {} schedules on site: \".format(pagination_item.total_available))\n",
    "\n",
    "all_schedules[0]"
   ]
  },
  {
   "cell_type": "code",
   "execution_count": null,
   "metadata": {},
   "outputs": [],
   "source": []
  },
  {
   "cell_type": "code",
   "execution_count": null,
   "metadata": {},
   "outputs": [],
   "source": []
  },
  {
   "cell_type": "markdown",
   "metadata": {},
   "source": [
    "### VIEWS"
   ]
  },
  {
   "cell_type": "code",
   "execution_count": 22,
   "metadata": {},
   "outputs": [
    {
     "name": "stdout",
     "output_type": "stream",
     "text": [
      "\n",
      "There are 7282 views on site: \n"
     ]
    },
    {
     "data": {
      "text/html": [
       "<div>\n",
       "<style scoped>\n",
       "    .dataframe tbody tr th:only-of-type {\n",
       "        vertical-align: middle;\n",
       "    }\n",
       "\n",
       "    .dataframe tbody tr th {\n",
       "        vertical-align: top;\n",
       "    }\n",
       "\n",
       "    .dataframe thead th {\n",
       "        text-align: right;\n",
       "    }\n",
       "</style>\n",
       "<table border=\"1\" class=\"dataframe\">\n",
       "  <thead>\n",
       "    <tr style=\"text-align: right;\">\n",
       "      <th></th>\n",
       "      <th>0</th>\n",
       "    </tr>\n",
       "  </thead>\n",
       "  <tbody>\n",
       "    <tr>\n",
       "      <th>_content_url</th>\n",
       "      <td>DataDictionary_1/sheets/DataDictionary</td>\n",
       "    </tr>\n",
       "    <tr>\n",
       "      <th>_csv</th>\n",
       "      <td>None</td>\n",
       "    </tr>\n",
       "    <tr>\n",
       "      <th>_id</th>\n",
       "      <td>dbab3eaa-0252-11e4-a8fc-b760e4643919</td>\n",
       "    </tr>\n",
       "    <tr>\n",
       "      <th>_image</th>\n",
       "      <td>None</td>\n",
       "    </tr>\n",
       "    <tr>\n",
       "      <th>_initial_tags</th>\n",
       "      <td>{}</td>\n",
       "    </tr>\n",
       "    <tr>\n",
       "      <th>_name</th>\n",
       "      <td>Data Dictionary</td>\n",
       "    </tr>\n",
       "    <tr>\n",
       "      <th>_owner_id</th>\n",
       "      <td>9deb418f-b79c-4d77-ae25-3b07b17a5a5a</td>\n",
       "    </tr>\n",
       "    <tr>\n",
       "      <th>_pdf</th>\n",
       "      <td>None</td>\n",
       "    </tr>\n",
       "    <tr>\n",
       "      <th>_preview_image</th>\n",
       "      <td>None</td>\n",
       "    </tr>\n",
       "    <tr>\n",
       "      <th>_project_id</th>\n",
       "      <td>None</td>\n",
       "    </tr>\n",
       "    <tr>\n",
       "      <th>_total_views</th>\n",
       "      <td>None</td>\n",
       "    </tr>\n",
       "    <tr>\n",
       "      <th>_workbook_id</th>\n",
       "      <td>db792c08-0252-11e4-9305-1f52c4fd5526</td>\n",
       "    </tr>\n",
       "    <tr>\n",
       "      <th>tags</th>\n",
       "      <td>{}</td>\n",
       "    </tr>\n",
       "  </tbody>\n",
       "</table>\n",
       "</div>"
      ],
      "text/plain": [
       "                                                     0\n",
       "_content_url    DataDictionary_1/sheets/DataDictionary\n",
       "_csv                                              None\n",
       "_id               dbab3eaa-0252-11e4-a8fc-b760e4643919\n",
       "_image                                            None\n",
       "_initial_tags                                       {}\n",
       "_name                                  Data Dictionary\n",
       "_owner_id         9deb418f-b79c-4d77-ae25-3b07b17a5a5a\n",
       "_pdf                                              None\n",
       "_preview_image                                    None\n",
       "_project_id                                       None\n",
       "_total_views                                      None\n",
       "_workbook_id      db792c08-0252-11e4-9305-1f52c4fd5526\n",
       "tags                                                {}"
      ]
     },
     "execution_count": 22,
     "metadata": {},
     "output_type": "execute_result"
    }
   ],
   "source": [
    "with server.auth.sign_in(tableau_auth):\n",
    "    all_views, pagination_item = server.views.get()\n",
    "    print(\"\\nThere are {} views on site: \".format(pagination_item.total_available))        \n",
    "    v = all_views[0]\n",
    "    \n",
    "pd.DataFrame(pd.Series(vars(v)))"
   ]
  },
  {
   "cell_type": "code",
   "execution_count": null,
   "metadata": {},
   "outputs": [],
   "source": []
  },
  {
   "cell_type": "markdown",
   "metadata": {},
   "source": [
    "### SubscriptionsItem"
   ]
  },
  {
   "cell_type": "code",
   "execution_count": 7,
   "metadata": {},
   "outputs": [
    {
     "data": {
      "text/plain": [
       "{'_page_number': 1, '_page_size': 100, '_total_available': 0}"
      ]
     },
     "execution_count": 7,
     "metadata": {},
     "output_type": "execute_result"
    }
   ],
   "source": [
    "with server.auth.sign_in(tableau_auth):\n",
    "    #target = ('c7a9327e-1cda-4504-b026-ddb43b976d1d', 'workbook')\n",
    "    all_sub = server.subscriptions.get()\n",
    "    sub = all_sub[1]\n",
    "vars(sub)"
   ]
  },
  {
   "cell_type": "code",
   "execution_count": null,
   "metadata": {},
   "outputs": [],
   "source": []
  },
  {
   "cell_type": "markdown",
   "metadata": {},
   "source": [
    "### ProjectItem"
   ]
  },
  {
   "cell_type": "code",
   "execution_count": 10,
   "metadata": {},
   "outputs": [
    {
     "data": {
      "text/html": [
       "<div>\n",
       "<style scoped>\n",
       "    .dataframe tbody tr th:only-of-type {\n",
       "        vertical-align: middle;\n",
       "    }\n",
       "\n",
       "    .dataframe tbody tr th {\n",
       "        vertical-align: top;\n",
       "    }\n",
       "\n",
       "    .dataframe thead th {\n",
       "        text-align: right;\n",
       "    }\n",
       "</style>\n",
       "<table border=\"1\" class=\"dataframe\">\n",
       "  <thead>\n",
       "    <tr style=\"text-align: right;\">\n",
       "      <th></th>\n",
       "      <th>0</th>\n",
       "    </tr>\n",
       "  </thead>\n",
       "  <tbody>\n",
       "    <tr>\n",
       "      <th>_content_permissions</th>\n",
       "      <td>ManagedByOwner</td>\n",
       "    </tr>\n",
       "    <tr>\n",
       "      <th>_id</th>\n",
       "      <td>db7204dc-0252-11e4-abfc-ef3c97791691</td>\n",
       "    </tr>\n",
       "    <tr>\n",
       "      <th>_name</th>\n",
       "      <td>Marketing</td>\n",
       "    </tr>\n",
       "    <tr>\n",
       "      <th>description</th>\n",
       "      <td>Reports and Dashboards for the Marketing team....</td>\n",
       "    </tr>\n",
       "    <tr>\n",
       "      <th>parent_id</th>\n",
       "      <td>None</td>\n",
       "    </tr>\n",
       "  </tbody>\n",
       "</table>\n",
       "</div>"
      ],
      "text/plain": [
       "                                                                      0\n",
       "_content_permissions                                     ManagedByOwner\n",
       "_id                                db7204dc-0252-11e4-abfc-ef3c97791691\n",
       "_name                                                         Marketing\n",
       "description           Reports and Dashboards for the Marketing team....\n",
       "parent_id                                                          None"
      ]
     },
     "execution_count": 10,
     "metadata": {},
     "output_type": "execute_result"
    }
   ],
   "source": [
    "with server.auth.sign_in(tableau_auth): \n",
    "        # get all projects on site\n",
    "        all_projects, pagination_item = server.projects.get()\n",
    "        pj = all_projects[0]\n",
    "        #print([proj.name for proj in all_projects])\n",
    "\n",
    "pd.DataFrame(pd.Series(vars(pj)))"
   ]
  },
  {
   "cell_type": "code",
   "execution_count": null,
   "metadata": {},
   "outputs": [],
   "source": []
  },
  {
   "cell_type": "markdown",
   "metadata": {},
   "source": [
    "### Get specific items with id or criteria"
   ]
  },
  {
   "cell_type": "code",
   "execution_count": null,
   "metadata": {},
   "outputs": [],
   "source": [
    "workbook = server.workbooks.get_by_id('9a75a75a-bcc3-4371-ba9d-386da039bbb4')\n",
    "all_info = [wb for wb in TSC.Pager(server.workbooks) if wb.name.startswith('Alert')]"
   ]
  },
  {
   "cell_type": "code",
   "execution_count": null,
   "metadata": {},
   "outputs": [],
   "source": []
  },
  {
   "cell_type": "code",
   "execution_count": null,
   "metadata": {},
   "outputs": [],
   "source": []
  },
  {
   "cell_type": "code",
   "execution_count": null,
   "metadata": {},
   "outputs": [],
   "source": []
  },
  {
   "cell_type": "code",
   "execution_count": null,
   "metadata": {},
   "outputs": [],
   "source": []
  }
 ],
 "metadata": {
  "kernelspec": {
   "display_name": "Python 3",
   "language": "python",
   "name": "python3"
  },
  "language_info": {
   "codemirror_mode": {
    "name": "ipython",
    "version": 3
   },
   "file_extension": ".py",
   "mimetype": "text/x-python",
   "name": "python",
   "nbconvert_exporter": "python",
   "pygments_lexer": "ipython3",
   "version": "3.6.4"
  }
 },
 "nbformat": 4,
 "nbformat_minor": 2
}
